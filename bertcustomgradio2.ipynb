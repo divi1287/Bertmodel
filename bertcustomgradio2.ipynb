{
 "cells": [
  {
   "cell_type": "code",
   "execution_count": 1,
   "id": "b8ee2d83-e45a-44d9-ba93-e598064cfc3d",
   "metadata": {
    "tags": []
   },
   "outputs": [
    {
     "name": "stderr",
     "output_type": "stream",
     "text": [
      "C:\\Users\\LENOVO\\anaconda3\\envs\\myfirstenv\\Lib\\site-packages\\tqdm\\auto.py:21: TqdmWarning: IProgress not found. Please update jupyter and ipywidgets. See https://ipywidgets.readthedocs.io/en/stable/user_install.html\n",
      "  from .autonotebook import tqdm as notebook_tqdm\n"
     ]
    }
   ],
   "source": [
    "from transformers import pipeline\n",
    "from transformers import BertForSequenceClassification, BertTokenizer\n",
    "import gradio as gr\n",
    "\n",
    "from datasets import load_dataset\n",
    "import torch\n",
    "#from transformers import BertForSequenceClassification, BertTokenizer, AdamW\n",
    "from torch.utils.data import DataLoader, TensorDataset"
   ]
  },
  {
   "cell_type": "code",
   "execution_count": 2,
   "id": "207c1429-3450-435d-b0fc-d19704acaa63",
   "metadata": {
    "tags": []
   },
   "outputs": [],
   "source": [
    "import gradio as gr\n",
    "import torch\n",
    "from transformers import BertTokenizer, BertForSequenceClassification\n",
    "import os\n",
    "\n",
    "\n"
   ]
  },
  {
   "cell_type": "code",
   "execution_count": 3,
   "id": "9984bf8d-169d-47cf-883e-2d020dcaa687",
   "metadata": {
    "tags": []
   },
   "outputs": [],
   "source": [
    "import os\n",
    "model_path = r\"C:\\Users\\LENOVO\\berttuned\"\n",
    "#model_name = \"bertcustom\"\n",
    "#model_path = os.path.join(directory_path, model_name)"
   ]
  },
  {
   "cell_type": "code",
   "execution_count": 4,
   "id": "ee9d4ec9-b8d0-4b27-967b-1865fa74ba1d",
   "metadata": {
    "tags": []
   },
   "outputs": [],
   "source": [
    "# Load your dataset from Hugging Face Datasets\n",
    "dataset = load_dataset(\"Divya1287/sentimal_analysis1\")"
   ]
  },
  {
   "cell_type": "code",
   "execution_count": 5,
   "id": "09793663-c821-4d89-89b8-d3f0b1857622",
   "metadata": {
    "tags": []
   },
   "outputs": [],
   "source": [
    "import pandas as pd\n",
    "from sklearn.model_selection import train_test_split\n",
    "from io import StringIO"
   ]
  },
  {
   "cell_type": "code",
   "execution_count": 6,
   "id": "83525b28-01c3-49c5-a29a-3e0460525359",
   "metadata": {
    "tags": []
   },
   "outputs": [],
   "source": [
    "dataset = load_dataset(\"Divya1287/sentimal_analysis1\",sep=\";\",encoding=\"latin-1\")"
   ]
  },
  {
   "cell_type": "code",
   "execution_count": 7,
   "id": "561c1b21-7353-4e5a-96ca-334a396977af",
   "metadata": {
    "tags": []
   },
   "outputs": [],
   "source": [
    "df = dataset[\"train\"].to_pandas()"
   ]
  },
  {
   "cell_type": "code",
   "execution_count": 8,
   "id": "524af2f0-e91c-486d-b7d6-fca77a46b6f3",
   "metadata": {
    "tags": []
   },
   "outputs": [
    {
     "name": "stdout",
     "output_type": "stream",
     "text": [
      "                                       Text Data,Label  \\\n",
      "0              I loved the movie as it was fantastic,1   \n",
      "1            The product didn't meet my expectations,0   \n",
      "2        This restaurant has great food and service.,1   \n",
      "3                I will be going to office on Friday,1   \n",
      "4                   I dont eat junk but i like pizza,1   \n",
      "..                                                 ...   \n",
      "102  It feels more comfortable than most headsets b...   \n",
      "103                             Great for iPODs too.,1   \n",
      "104    This device is great in several situations:1.,1   \n",
      "105                                Mic Doesn't work.,0   \n",
      "106    Even in my BMW 3 series which is fairly quiet,0   \n",
      "\n",
      "                                             Text Data  Label  \n",
      "0                I loved the movie as it was fantastic      1  \n",
      "1              The product didn't meet my expectations      0  \n",
      "2          This restaurant has great food and service.      1  \n",
      "3                  I will be going to office on Friday      1  \n",
      "4                     I dont eat junk but i like pizza      1  \n",
      "..                                                 ...    ...  \n",
      "102  It feels more comfortable than most headsets b...      1  \n",
      "103                               Great for iPODs too.      1  \n",
      "104      This device is great in several situations:1.      1  \n",
      "105                               Mic Doesn't work.         0  \n",
      "106      Even in my BMW 3 series which is fairly quiet      0  \n",
      "\n",
      "[107 rows x 3 columns]\n"
     ]
    }
   ],
   "source": [
    "import pandas as pd\n",
    "\n",
    "\n",
    "\n",
    "#df = pd.DataFrame(data)\n",
    "\n",
    "# Define a maximum sequence length for padding\n",
    "max_sequence_length = 20  # Adjust this as needed\n",
    "\n",
    "# Define a padding character (e.g., space)\n",
    "padding_char = ' '\n",
    "\n",
    "# Split the \"Text Data,Label\" column into text and label columns\n",
    "df[['Text Data', 'Label']] = df['Text Data,Label'].str.split(',', expand=True)\n",
    "\n",
    "# Pad the 'Text Data' column to the specified maximum sequence length\n",
    "df['Text Data'] = df['Text Data'].apply(lambda x: x.ljust(max_sequence_length, padding_char))\n",
    "\n",
    "# Convert the 'Label' column to integers\n",
    "df['Label'] = df['Label'].astype(int)\n",
    "\n",
    "# Now, all text sequences in the 'Text Data' column have the same length\n",
    "print(df)"
   ]
  },
  {
   "cell_type": "code",
   "execution_count": 9,
   "id": "9b68d71a-60e2-4974-846c-b3aeb852571f",
   "metadata": {
    "tags": []
   },
   "outputs": [],
   "source": [
    "column_name_to_remove = \"Text Data,Label\"\n",
    "df = df.drop(column_name_to_remove, axis=1)\n",
    "\n",
    "# Save the modified DataFrame back to a file if needed\n",
    "df.to_csv(\"modified_dataset.csv\", index=False)"
   ]
  },
  {
   "cell_type": "code",
   "execution_count": 10,
   "id": "067433fb-6e1e-49a5-a71f-c843571c7a49",
   "metadata": {
    "tags": []
   },
   "outputs": [
    {
     "name": "stdout",
     "output_type": "stream",
     "text": [
      "                                             Text Data  Label\n",
      "0                i loved the movie as it was fantastic      1\n",
      "1              the product didn't meet my expectations      0\n",
      "2          this restaurant has great food and service.      1\n",
      "3                  i will be going to office on friday      1\n",
      "4                     i dont eat junk but i like pizza      1\n",
      "..                                                 ...    ...\n",
      "102  it feels more comfortable than most headsets b...      1\n",
      "103                               great for ipods too.      1\n",
      "104      this device is great in several situations:1.      1\n",
      "105                               mic doesn't work.         0\n",
      "106      even in my bmw 3 series which is fairly quiet      0\n",
      "\n",
      "[107 rows x 2 columns]\n"
     ]
    }
   ],
   "source": [
    "# Convert the 'text_column' to lowercase\n",
    "df['Text Data'] = df['Text Data'].apply(lambda x: x.lower())\n",
    "\n",
    "# Print the DataFrame\n",
    "print(df)"
   ]
  },
  {
   "cell_type": "code",
   "execution_count": 11,
   "id": "ca755908-0755-48cb-a67c-3d8464d552d5",
   "metadata": {
    "tags": []
   },
   "outputs": [
    {
     "name": "stdout",
     "output_type": "stream",
     "text": [
      "                                             Text Data  Label\n",
      "0                i loved the movie as it was fantastic      1\n",
      "1              the product didn't meet my expectations      0\n",
      "2          this restaurant has great food and service.      1\n",
      "3                  i will be going to office on friday      1\n",
      "4                     i dont eat junk but i like pizza      1\n",
      "..                                                 ...    ...\n",
      "102  it feels more comfortable than most headsets b...      1\n",
      "103                               great for ipods too.      1\n",
      "104      this device is great in several situations:1.      1\n",
      "105                               mic doesn't work.         0\n",
      "106      even in my bmw 3 series which is fairly quiet      0\n",
      "\n",
      "[107 rows x 2 columns]\n"
     ]
    }
   ],
   "source": [
    "print(df)"
   ]
  },
  {
   "cell_type": "code",
   "execution_count": 12,
   "id": "8b4c8c96-490f-42b4-bb02-e00d4d2e0c27",
   "metadata": {
    "tags": []
   },
   "outputs": [],
   "source": [
    "# Load the fine-tuned BERT model and tokenizer\n",
    "#model_path = os.path.join(directory_path, model_name)\n",
    "tokenizer = BertTokenizer.from_pretrained(model_path)\n",
    "model = BertForSequenceClassification.from_pretrained(model_path)"
   ]
  },
  {
   "cell_type": "code",
   "execution_count": 13,
   "id": "5e815456-b40a-4d05-ab61-de62c3f8d244",
   "metadata": {
    "tags": []
   },
   "outputs": [],
   "source": [
    "def classify_text(text):\n",
    "    # Tokenize the input text\n",
    "    inputs = tokenizer(text, padding=True, truncation=True, return_tensors=\"pt\")\n",
    "    \n",
    "    # Forward pass through the model\n",
    "    with torch.no_grad():\n",
    "        outputs = model(**inputs)\n",
    "    # Perform sentiment analysis using the loaded model\n",
    "    #outputs = model(**inputs)\n",
    "    predicted_class = outputs.logits.argmax().item()\n",
    "    #predicted_class = 1 if outputs.logits.argmax().item() == 1 else 0  # Assuming binary classification\n",
    "\n",
    "    return predicted_class\n",
    "    # Get predicted class probabilities\n",
    "    #logits = outputs.logits\n",
    "   # probabilities = torch.softmax(logits, dim=1)\n",
    "    \n",
    "    # Get the predicted class label (assuming binary classification)\n",
    "  #  predicted_label = \"Positive\" if probabilities[0][1] > probabilities[0][0] else \"Negative\"\n",
    "    \n",
    "  #  return f\"Predicted class: {predicted_label}, Positive Probability: {probabilities[0][1]:.4f}\"\n"
   ]
  },
  {
   "cell_type": "code",
   "execution_count": 14,
   "id": "73d0735f-47bb-4b04-b8b3-222ab82073fc",
   "metadata": {
    "tags": []
   },
   "outputs": [],
   "source": [
    "# Create a Gradio interface\n",
    "iface = gr.Interface(\n",
    "    fn=classify_text,\n",
    "    inputs=gr.components.Textbox(label=\"Enter a text sample\"),\n",
    "    outputs=gr.components.Label(label=\"Predicted Sentiment (0: Negative, 1: Positive)\")\n",
    ")"
   ]
  },
  {
   "cell_type": "code",
   "execution_count": 15,
   "id": "2aa417c1-01ad-4864-a115-0856bb52922c",
   "metadata": {
    "tags": []
   },
   "outputs": [
    {
     "name": "stdout",
     "output_type": "stream",
     "text": [
      "Running on local URL:  http://127.0.0.1:7861\n",
      "\n",
      "To create a public link, set `share=True` in `launch()`.\n"
     ]
    },
    {
     "data": {
      "text/html": [
       "<div><iframe src=\"http://127.0.0.1:7861/\" width=\"100%\" height=\"500\" allow=\"autoplay; camera; microphone; clipboard-read; clipboard-write;\" frameborder=\"0\" allowfullscreen></iframe></div>"
      ],
      "text/plain": [
       "<IPython.core.display.HTML object>"
      ]
     },
     "metadata": {},
     "output_type": "display_data"
    },
    {
     "data": {
      "text/plain": []
     },
     "execution_count": 15,
     "metadata": {},
     "output_type": "execute_result"
    }
   ],
   "source": [
    "# Launch the Gradio interface\n",
    "iface.launch()"
   ]
  },
  {
   "cell_type": "code",
   "execution_count": 16,
   "id": "0d1c2b12-b259-4328-8ed4-15f61ed53d3e",
   "metadata": {
    "tags": []
   },
   "outputs": [
    {
     "name": "stdout",
     "output_type": "stream",
     "text": [
      "Running on local URL:  http://127.0.0.1:7862\n",
      "\n",
      "To create a public link, set `share=True` in `launch()`.\n"
     ]
    },
    {
     "data": {
      "text/html": [
       "<div><iframe src=\"http://127.0.0.1:7862/\" width=\"100%\" height=\"500\" allow=\"autoplay; camera; microphone; clipboard-read; clipboard-write;\" frameborder=\"0\" allowfullscreen></iframe></div>"
      ],
      "text/plain": [
       "<IPython.core.display.HTML object>"
      ]
     },
     "metadata": {},
     "output_type": "display_data"
    }
   ],
   "source": [
    "\n",
    "iface = gr.Interface(\n",
    "    fn=classify_text,\n",
    "    inputs=\"text\",\n",
    "    outputs=\"text\",\n",
    "    title=\"BERT Text Classification\",\n",
    "    description=\"Enter a text and get sentiment classification.\",\n",
    "    live=True\n",
    ")\n",
    "\n",
    "if __name__ == \"__main__\":\n",
    "    iface.launch()\n"
   ]
  },
  {
   "cell_type": "code",
   "execution_count": null,
   "id": "5e266f86-1006-4dca-b642-e2da3ff6c43f",
   "metadata": {},
   "outputs": [],
   "source": []
  },
  {
   "cell_type": "code",
   "execution_count": null,
   "id": "8aab80a6-777c-4668-b5f9-e678fc4e2194",
   "metadata": {},
   "outputs": [],
   "source": []
  },
  {
   "cell_type": "code",
   "execution_count": null,
   "id": "56e754aa-4c48-4d92-b8a7-1188bb2d1bf4",
   "metadata": {},
   "outputs": [],
   "source": []
  },
  {
   "cell_type": "code",
   "execution_count": null,
   "id": "64162073-a96e-4140-95e7-a4d9a00b5dc3",
   "metadata": {},
   "outputs": [],
   "source": []
  }
 ],
 "metadata": {
  "kernelspec": {
   "display_name": "envname",
   "language": "python",
   "name": "envname"
  },
  "language_info": {
   "codemirror_mode": {
    "name": "ipython",
    "version": 3
   },
   "file_extension": ".py",
   "mimetype": "text/x-python",
   "name": "python",
   "nbconvert_exporter": "python",
   "pygments_lexer": "ipython3",
   "version": "3.11.4"
  }
 },
 "nbformat": 4,
 "nbformat_minor": 5
}
